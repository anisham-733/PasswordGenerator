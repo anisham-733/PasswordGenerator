{
 "cells": [
  {
   "cell_type": "code",
   "execution_count": 84,
   "id": "9b9857a8",
   "metadata": {},
   "outputs": [],
   "source": [
    "from password_generator import PasswordGenerator\n",
    "import tkinter\n",
    "\n",
    "root=tkinter.Tk()\n",
    "\n",
    "root.title(\"Random Password Generator\")\n",
    "root.geometry(\"500x450\")\n",
    "root.configure(background='#08546C')\n",
    "\n",
    "entry=tkinter.Entry(root,font=('Helvetica',14,'bold'),background\n",
    "                    ='#A0BACC',foreground='#022534')\n",
    "entry.place(relx=0.1,rely=0.2,relheight=0.1,relwidth=0.8)\n",
    "\n",
    "def create():\n",
    "    pwo = PasswordGenerator()\n",
    "    pwo.minlen=5\n",
    "    pwo.maxlen=10\n",
    "    pwo.minuchars=1\n",
    "\n",
    "    result=pwo.generate()\n",
    "    entry.delete(0,'end')\n",
    "    entry.insert(0 ,result)\n",
    "    \n",
    "def delete():\n",
    "    entry.delete(0,'end')\n",
    "\n",
    "button1=tkinter.Button(root,text='Generate Password',font=('Helvetica',17,'bold'),background\n",
    "                    ='#A0BACC',foreground='#022534',borderwidth=2,command=create)\n",
    "button1.place(relx=0.09,rely=0.54,relheight=0.21,relwidth=0.54)\n",
    "\n",
    "clear=tkinter.Button(root,text=\"Clear\",font=('Helvetica',17,'bold'),background\n",
    "                    ='#A0BACC',foreground='#022534',borderwidth=2,command=delete)\n",
    "clear.place(relx=0.71,rely=0.54,relheight=0.21,relwidth=0.25)\n",
    "\n",
    "\n",
    "root.mainloop()\n"
   ]
  }
 ],
 "metadata": {
  "kernelspec": {
   "display_name": "Python 3",
   "language": "python",
   "name": "python3"
  },
  "language_info": {
   "codemirror_mode": {
    "name": "ipython",
    "version": 3
   },
   "file_extension": ".py",
   "mimetype": "text/x-python",
   "name": "python",
   "nbconvert_exporter": "python",
   "pygments_lexer": "ipython3",
   "version": "3.6.9"
  }
 },
 "nbformat": 4,
 "nbformat_minor": 5
}
